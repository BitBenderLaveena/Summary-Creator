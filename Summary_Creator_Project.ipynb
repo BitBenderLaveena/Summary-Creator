{
  "cells": [
    {
      "cell_type": "code",
      "execution_count": 1,
      "metadata": {
        "id": "j9j0C6vnfBc9"
      },
      "outputs": [],
      "source": [
        "import nltk               #used for data pre processing...text data-'.',',',filler words..library stopwords function remove all common stop words in paragragh\n",
        "from nltk.corpus import stopwords\n",
        "import numpy as np          #for wighted average of numbers\n",
        "import networkx as nx                          #to represent in graph\n",
        "from gensim.models import word2vec                                  #for word to vector\n",
        "import gensim.downloader as api                 #to download pre trained models\n",
        "from gensim import models\n"
      ]
    },
    {
      "cell_type": "code",
      "execution_count": 2,
      "metadata": {
        "colab": {
          "base_uri": "https://localhost:8080/"
        },
        "id": "g-NZrvjafFYG",
        "outputId": "5642566a-e86b-4403-f3f5-af516a5380d4"
      },
      "outputs": [
        {
          "name": "stderr",
          "output_type": "stream",
          "text": [
            "[nltk_data] Downloading package punkt to /root/nltk_data...\n",
            "[nltk_data]   Unzipping tokenizers/punkt.zip.\n",
            "[nltk_data] Downloading package stopwords to /root/nltk_data...\n",
            "[nltk_data]   Unzipping corpora/stopwords.zip.\n"
          ]
        },
        {
          "data": {
            "text/plain": [
              "True"
            ]
          },
          "execution_count": 2,
          "metadata": {},
          "output_type": "execute_result"
        }
      ],
      "source": [
        "nltk.download('punkt')\n",
        "nltk.download('stopwords')"
      ]
    },
    {
      "cell_type": "code",
      "execution_count": 30,
      "metadata": {
        "id": "EMvvXTJEfIhv"
      },
      "outputs": [],
      "source": [
        "text = \"\"\"An emotionally fit and stable person always feels vibrant and truly alive and can easily manage emotionally difficult situations. To be emotionally strong, one has to be physically fit too. Although mental health is a personal issue, what affects one person may or may not affect another; yet, several key elements lead to mental health issues.Mental fitness implies a state of psychological well-being. It denotes having a positive sense of how we feel, think, and act, which improves one’s ability to enjoy life. Mental health means keeping our minds healthy. Mankind generally is more focused on keeping their physical body healthy. People tend to ignore the state of their minds. Human superiority over other animals lies in his superior mind. Man has been able to control life due to his highly developed brain. So, it becomes very important for a man to keep both his body and mind fit and healthy. Both physical and mental health are equally important for better performance and results.Mental fitness implies a state of psychological well-being. It denotes having a positive sense of how we feel, think, and act, which improves one’s ability to enjoy life. It contributes to one’s inner ability to be self-determined. It is a proactive, positive term and forsakes negative thoughts that may come to mind. The term mental fitness is increasingly being used by psychologists, mental health practitioners, schools, organisations, and the general population to denote logical thinking, clear comprehension, and reasoning ability\"\"\""
      ]
    },
    {
      "cell_type": "code",
      "execution_count": 31,
      "metadata": {
        "colab": {
          "base_uri": "https://localhost:8080/",
          "height": 226
        },
        "id": "T5zwbl3WfNse",
        "outputId": "af0e5c86-ac68-43c7-c3d4-55fa54aa9011"
      },
      "outputs": [
        {
          "data": {
            "application/vnd.google.colaboratory.intrinsic+json": {
              "type": "string"
            },
            "text/plain": [
              "'An emotionally fit and stable person always feels vibrant and truly alive and can easily manage emotionally difficult situations. To be emotionally strong, one has to be physically fit too. Although mental health is a personal issue, what affects one person may or may not affect another; yet, several key elements lead to mental health issues.Mental fitness implies a state of psychological well-being. It denotes having a positive sense of how we feel, think, and act, which improves one’s ability to enjoy life. Mental health means keeping our minds healthy. Mankind generally is more focused on keeping their physical body healthy. People tend to ignore the state of their minds. Human superiority over other animals lies in his superior mind. Man has been able to control life due to his highly developed brain. So, it becomes very important for a man to keep both his body and mind fit and healthy. Both physical and mental health are equally important for better performance and results.Mental fitness implies a state of psychological well-being. It denotes having a positive sense of how we feel, think, and act, which improves one’s ability to enjoy life. It contributes to one’s inner ability to be self-determined. It is a proactive, positive term and forsakes negative thoughts that may come to mind. The term mental fitness is increasingly being used by psychologists, mental health practitioners, schools, organisations, and the general population to denote logical thinking, clear comprehension, and reasoning ability'"
            ]
          },
          "execution_count": 31,
          "metadata": {},
          "output_type": "execute_result"
        }
      ],
      "source": [
        "text"
      ]
    },
    {
      "cell_type": "code",
      "execution_count": 32,
      "metadata": {
        "id": "glhJU1EefQSi"
      },
      "outputs": [],
      "source": [
        "sentences=nltk.sent_tokenize(text)"
      ]
    },
    {
      "cell_type": "code",
      "execution_count": 33,
      "metadata": {
        "colab": {
          "base_uri": "https://localhost:8080/"
        },
        "id": "BeHH0MypfUiy",
        "outputId": "8b4ad372-d726-473b-c22b-fc0d30f73f87"
      },
      "outputs": [
        {
          "data": {
            "text/plain": [
              "15"
            ]
          },
          "execution_count": 33,
          "metadata": {},
          "output_type": "execute_result"
        }
      ],
      "source": [
        "len(sentences)"
      ]
    },
    {
      "cell_type": "code",
      "execution_count": 34,
      "metadata": {
        "id": "PUTgtdBifXEl"
      },
      "outputs": [],
      "source": [
        "def preprocess_sentences(s):\n",
        "    sentence=s.lower()\n",
        "    words=nltk.word_tokenize(sentence)           #breakdown sentence in words\n",
        "    words=[word for word in words if word not in set(stopwords.words('english'))]\n",
        "    return words\n",
        "\n",
        "preprocessed_sentences=[preprocess_sentences(sentence) for sentence in sentences]"
      ]
    },
    {
      "cell_type": "code",
      "execution_count": 35,
      "metadata": {
        "colab": {
          "base_uri": "https://localhost:8080/"
        },
        "id": "QW2rcF9dfZw4",
        "outputId": "eb6b25c8-3ade-4e16-d4d1-c1d86e94aa70"
      },
      "outputs": [
        {
          "data": {
            "text/plain": [
              "['emotionally', 'strong', ',', 'one', 'physically', 'fit', '.']"
            ]
          },
          "execution_count": 35,
          "metadata": {},
          "output_type": "execute_result"
        }
      ],
      "source": [
        "preprocessed_sentences[1]"
      ]
    },
    {
      "cell_type": "code",
      "execution_count": 8,
      "metadata": {
        "colab": {
          "base_uri": "https://localhost:8080/"
        },
        "id": "l7xBimFnfcfh",
        "outputId": "a24048ec-71cc-4da9-9aa8-6583ec8f0360"
      },
      "outputs": [
        {
          "name": "stdout",
          "output_type": "stream",
          "text": [
            "[==================================================] 100.0% 1662.8/1662.8MB downloaded\n"
          ]
        }
      ],
      "source": [
        "#wv_model=models.KeyedVectors.load_word2vec_format(r\"GoogleNews-vectors-negative300.bin.gz\",binary=True,limit=500000)\n",
        "wv_model=api.load(\"word2vec-google-news-300\")"
      ]
    },
    {
      "cell_type": "code",
      "execution_count": 36,
      "metadata": {
        "id": "s9u_cCs2gEuy"
      },
      "outputs": [],
      "source": [
        "def sentSim(s1,s2):\n",
        "    v1=np.mean([wv_model[word] for word in s1 if word in wv_model],axis=0)\n",
        "    v2=np.mean([wv_model[word] for word in s2 if word in wv_model],axis=0)\n",
        "    if np.all(v1) and np.all(v2):\n",
        "        return 1-np.dot(v1,v2)/np.linalg.norm(v1)*np.linalg.norm(v2)\n",
        "    else:\n",
        "        return 0.0\n",
        "smm=np.zeros((len(sentences),len(sentences)))\n",
        "for i in range(len(sentences)):\n",
        "    for j in range(len(sentences)):\n",
        "        if i!=j:\n",
        "            smm[i][j]=sentSim(preprocessed_sentences[i],preprocessed_sentences[j])"
      ]
    },
    {
      "cell_type": "code",
      "execution_count": 37,
      "metadata": {
        "colab": {
          "base_uri": "https://localhost:8080/"
        },
        "id": "M00VoPxUfjJc",
        "outputId": "ffe586bd-30f2-45de-fc89-edbd26d00682"
      },
      "outputs": [
        {
          "data": {
            "text/plain": [
              "array([[ 0.        , -0.88627124,  0.40418106, -0.001899  , -0.15747201,\n",
              "        -0.03295135,  0.01486075,  0.13774508,  0.25715542, -0.20500803,\n",
              "         0.11043835, -0.001899  ,  0.0338816 ,  0.12239987,  0.31036222],\n",
              "       [-0.40408206,  0.        ,  0.42717689,  0.25112766, -0.05648804,\n",
              "         0.01922148,  0.32691091,  0.24497265,  0.38988405, -0.0979774 ,\n",
              "         0.03673965,  0.25112766,  0.26600254,  0.35085076,  0.3660503 ],\n",
              "       [ 0.10345101, -0.15795565,  0.        ,  0.05904013, -0.58810294,\n",
              "        -0.09156656, -0.11726034,  0.02815837,  0.24184293, -0.0150696 ,\n",
              "        -0.4431802 ,  0.05904013, -0.15011835, -0.00929689, -0.10976112],\n",
              "       [-0.11037886, -0.11497891,  0.30695951,  0.        , -0.19491577,\n",
              "         0.02822042, -0.07192576, -0.00813997,  0.36183679, -0.05969167,\n",
              "         0.0265432 , -0.55867493, -0.28501749, -0.10395765,  0.16796792],\n",
              "       [ 0.07274276, -0.13701439,  0.1545096 ,  0.13626635,  0.        ,\n",
              "        -0.34758353, -0.20571601, -0.00608993,  0.3774389 , -0.2244885 ,\n",
              "        -0.28972781,  0.13626635,  0.04856306,  0.0224418 , -0.0526135 ],\n",
              "       [ 0.02328569, -0.24586296,  0.31407255,  0.17089748, -0.59057307,\n",
              "         0.        ,  0.02292407, -0.14818549,  0.2705974 , -0.24869037,\n",
              "        -0.10812402,  0.17089748,  0.05638683,  0.07660109,  0.17659813],\n",
              "       [ 0.19979042,  0.26550251,  0.39688408,  0.21436006, -0.22253537,\n",
              "         0.16064292,  0.        ,  0.14071006,  0.50094736,  0.2069602 ,\n",
              "         0.28277224,  0.21436006,  0.26459932,  0.12017071,  0.15880084],\n",
              "       [ 0.29625708,  0.17214799,  0.47287434,  0.25757605, -0.02500367,\n",
              "         0.00893354,  0.13659996,  0.        ,  0.41328377,  0.19539517,\n",
              "         0.1335423 ,  0.25757605,  0.04732054,  0.2553122 ,  0.26356375],\n",
              "       [ 0.00630927, -0.09642076,  0.32601112,  0.22973913, -0.0395503 ,\n",
              "        -0.03188884,  0.17814815,  0.03838104,  0.        ,  0.04479182,\n",
              "         0.15325421,  0.22973913, -0.05613267,  0.28582859,  0.19021863],\n",
              "       [-0.205019  , -0.4750576 ,  0.32540977,  0.04382759, -0.52851212,\n",
              "        -0.3205992 ,  0.0236786 ,  0.01415592,  0.28591698,  0.        ,\n",
              "         0.03219479,  0.04382759,  0.0127781 ,  0.06140584,  0.22581547],\n",
              "       [ 0.10858798, -0.2967546 ,  0.03891164,  0.11981928, -0.61328375,\n",
              "        -0.17436516,  0.11518306, -0.06382799,  0.36568904,  0.03019047,\n",
              "         0.        ,  0.11981928,  0.0101279 ,  0.15329808, -0.14358759],\n",
              "       [-0.11037886, -0.11497891,  0.30695951, -0.55867493, -0.19491577,\n",
              "         0.02822042, -0.07192576, -0.00813997,  0.36183679, -0.05969167,\n",
              "         0.0265432 ,  0.        , -0.28501749, -0.10395765,  0.16796792],\n",
              "       [ 0.2267698 ,  0.21080434,  0.38826787,  0.07201648,  0.04946369,\n",
              "         0.20129794,  0.2754032 ,  0.06578487,  0.36810684,  0.20988679,\n",
              "         0.20940304,  0.07201648,  0.        ,  0.27254975,  0.3640728 ],\n",
              "       [ 0.11068797,  0.11628205,  0.32030088, -0.00939846, -0.23654616,\n",
              "         0.01040125, -0.09761429,  0.07540119,  0.45898831,  0.04888862,\n",
              "         0.14377964, -0.00939846,  0.0789519 ,  0.        ,  0.23825568],\n",
              "       [ 0.17846346, -0.01454723,  0.12143153,  0.10566813, -0.56525469,\n",
              "        -0.03736126, -0.2336688 , -0.07488656,  0.27885872,  0.0777548 ,\n",
              "        -0.35948002,  0.10566813,  0.05346918,  0.10451645,  0.        ]])"
            ]
          },
          "execution_count": 37,
          "metadata": {},
          "output_type": "execute_result"
        }
      ],
      "source": [
        "smm"
      ]
    },
    {
      "cell_type": "code",
      "execution_count": 38,
      "metadata": {
        "id": "TgRZGNG2h1FV"
      },
      "outputs": [],
      "source": [
        "smg=nx.from_numpy_array(smm)"
      ]
    },
    {
      "cell_type": "code",
      "execution_count": 39,
      "metadata": {
        "id": "EKnnH15zh3Jg"
      },
      "outputs": [],
      "source": [
        "#scores=nx.pagerank(smg)\n",
        "#scores=nx.pagerank(smg,max_iter=99, tol=1e-6)\n",
        "hub_scores, scores= nx.hits(smg)"
      ]
    },
    {
      "cell_type": "code",
      "execution_count": 40,
      "metadata": {
        "colab": {
          "base_uri": "https://localhost:8080/"
        },
        "id": "_Qvk_Q_6h5PU",
        "outputId": "a7fd4770-c7a3-483a-f425-24d36377724a"
      },
      "outputs": [
        {
          "data": {
            "text/plain": [
              "{0: 0.04969765857854312,\n",
              " 1: -0.042030247259056235,\n",
              " 2: 0.15602415511702353,\n",
              " 3: 0.06359065511521952,\n",
              " 4: -0.10357976825528482,\n",
              " 5: 0.06562829646253256,\n",
              " 6: 0.08915344046936949,\n",
              " 7: 0.06821774970292067,\n",
              " 8: 0.1486749673481119,\n",
              " 9: 0.09642730694286722,\n",
              " 10: 0.09093742426439885,\n",
              " 11: 0.04973350968063846,\n",
              " 12: 0.11664258369845272,\n",
              " 13: 0.09445140962619353,\n",
              " 14: 0.056430858508069566}"
            ]
          },
          "execution_count": 40,
          "metadata": {},
          "output_type": "execute_result"
        }
      ],
      "source": [
        "scores"
      ]
    },
    {
      "cell_type": "code",
      "execution_count": 41,
      "metadata": {
        "id": "qKfrN0uIh657"
      },
      "outputs": [],
      "source": [
        "num=2\n",
        "#sorting acc to most imp and least\n",
        "sortSen=sorted(((scores[i],sentence) for i,sentence in enumerate(sentences)),reverse=True)"
      ]
    },
    {
      "cell_type": "code",
      "execution_count": 42,
      "metadata": {
        "colab": {
          "base_uri": "https://localhost:8080/"
        },
        "id": "OskOwE3Vh9PW",
        "outputId": "22a87f1f-41b7-4cc5-dbce-8e74608d9c88"
      },
      "outputs": [
        {
          "data": {
            "text/plain": [
              "[(0.15602415511702353,\n",
              "  'Although mental health is a personal issue, what affects one person may or may not affect another; yet, several key elements lead to mental health issues.Mental fitness implies a state of psychological well-being.'),\n",
              " (0.1486749673481119,\n",
              "  'Man has been able to control life due to his highly developed brain.'),\n",
              " (0.11664258369845272,\n",
              "  'It contributes to one’s inner ability to be self-determined.'),\n",
              " (0.09642730694286722,\n",
              "  'So, it becomes very important for a man to keep both his body and mind fit and healthy.'),\n",
              " (0.09445140962619353,\n",
              "  'It is a proactive, positive term and forsakes negative thoughts that may come to mind.'),\n",
              " (0.09093742426439885,\n",
              "  'Both physical and mental health are equally important for better performance and results.Mental fitness implies a state of psychological well-being.'),\n",
              " (0.08915344046936949, 'People tend to ignore the state of their minds.'),\n",
              " (0.06821774970292067,\n",
              "  'Human superiority over other animals lies in his superior mind.'),\n",
              " (0.06562829646253256,\n",
              "  'Mankind generally is more focused on keeping their physical body healthy.'),\n",
              " (0.06359065511521952,\n",
              "  'It denotes having a positive sense of how we feel, think, and act, which improves one’s ability to enjoy life.'),\n",
              " (0.056430858508069566,\n",
              "  'The term mental fitness is increasingly being used by psychologists, mental health practitioners, schools, organisations, and the general population to denote logical thinking, clear comprehension, and reasoning ability'),\n",
              " (0.04973350968063846,\n",
              "  'It denotes having a positive sense of how we feel, think, and act, which improves one’s ability to enjoy life.'),\n",
              " (0.04969765857854312,\n",
              "  'An emotionally fit and stable person always feels vibrant and truly alive and can easily manage emotionally difficult situations.'),\n",
              " (-0.042030247259056235,\n",
              "  'To be emotionally strong, one has to be physically fit too.'),\n",
              " (-0.10357976825528482, 'Mental health means keeping our minds healthy.')]"
            ]
          },
          "execution_count": 42,
          "metadata": {},
          "output_type": "execute_result"
        }
      ],
      "source": [
        "sortSen"
      ]
    },
    {
      "cell_type": "code",
      "execution_count": 43,
      "metadata": {
        "id": "oOjDSTP7h_00"
      },
      "outputs": [],
      "source": [
        "summ_sent=[sentence for _,sentence in sortSen[:num]]"
      ]
    },
    {
      "cell_type": "code",
      "execution_count": 44,
      "metadata": {
        "colab": {
          "base_uri": "https://localhost:8080/"
        },
        "id": "7i1VbnaCiB_1",
        "outputId": "589223ef-8ed1-4326-8f18-4dd683939265"
      },
      "outputs": [
        {
          "data": {
            "text/plain": [
              "['Although mental health is a personal issue, what affects one person may or may not affect another; yet, several key elements lead to mental health issues.Mental fitness implies a state of psychological well-being.',\n",
              " 'Man has been able to control life due to his highly developed brain.']"
            ]
          },
          "execution_count": 44,
          "metadata": {},
          "output_type": "execute_result"
        }
      ],
      "source": [
        "summ_sent\n"
      ]
    },
    {
      "cell_type": "code",
      "execution_count": 45,
      "metadata": {
        "id": "R6GhoQtGiEVL"
      },
      "outputs": [],
      "source": [
        "summ=\"\".join(summ_sent)"
      ]
    },
    {
      "cell_type": "code",
      "execution_count": 49,
      "metadata": {
        "colab": {
          "base_uri": "https://localhost:8080/"
        },
        "id": "h_--chFqiLSN",
        "outputId": "0b6dfb69-9a78-453e-d22d-d10ec1856b99"
      },
      "outputs": [
        {
          "name": "stdout",
          "output_type": "stream",
          "text": [
            "Although mental health is a personal issue, what affects one person may or may not affect another; yet, several key elements lead to mental health issues.Mental fitness implies a state of psychological well-being.Man has been able to control life due to his highly developed brain.\n"
          ]
        }
      ],
      "source": [
        "print(summ)\n"
      ]
    }
  ],
  "metadata": {
    "accelerator": "GPU",
    "colab": {
      "gpuType": "T4",
      "provenance": []
    },
    "kernelspec": {
      "display_name": "Python 3",
      "name": "python3"
    },
    "language_info": {
      "name": "python"
    }
  },
  "nbformat": 4,
  "nbformat_minor": 0
}
